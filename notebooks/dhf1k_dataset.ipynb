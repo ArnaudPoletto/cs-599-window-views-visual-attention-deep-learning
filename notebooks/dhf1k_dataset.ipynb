{
 "cells": [
  {
   "cell_type": "code",
   "execution_count": 37,
   "metadata": {},
   "outputs": [
    {
     "name": "stdout",
     "output_type": "stream",
     "text": [
      "The autoreload extension is already loaded. To reload it, use:\n",
      "  %reload_ext autoreload\n"
     ]
    }
   ],
   "source": [
    "%load_ext autoreload\n",
    "%autoreload 2"
   ]
  },
  {
   "cell_type": "code",
   "execution_count": 38,
   "metadata": {},
   "outputs": [],
   "source": [
    "import sys\n",
    "\n",
    "sys.path.append(\"../\")\n",
    "\n",
    "import os\n",
    "import numpy as np\n",
    "import matplotlib.pyplot as plt\n",
    "\n",
    "os.environ[\"KMP_DUPLICATE_LIB_OK\"] = \"True\"\n",
    "\n",
    "from src.config import PROCESSED_DHF1K_PATH, SEED\n",
    "from src.datasets.dhf1k_dataset import DHF1KDataset\n",
    "from src.utils.file import get_paths_recursive\n",
    "from src.datasets.dhf1k_dataset import get_dataloaders\n",
    "\n",
    "SEQUENCE_LENGTH = 5"
   ]
  },
  {
   "cell_type": "code",
   "execution_count": 39,
   "metadata": {},
   "outputs": [
    {
     "name": "stdout",
     "output_type": "stream",
     "text": [
      "🌱 Setting the seed to 0 for generating dataloaders.\n"
     ]
    }
   ],
   "source": [
    "sample_folder_paths = get_paths_recursive(folder_path=PROCESSED_DHF1K_PATH, match_pattern=\"*\", file_type=\"d\", recursive=False)\n",
    "train_loader, val_loader, test_loader = get_dataloaders(\n",
    "    sample_folder_paths=sample_folder_paths,\n",
    "    sequence_length=SEQUENCE_LENGTH,\n",
    "    with_transforms=True,\n",
    "    batch_size=1,\n",
    "    train_split = 0.8,\n",
    "    val_split = 0.1,\n",
    "    test_split = 0.1,\n",
    "    train_shuffle=True,\n",
    "    n_workers=0,\n",
    "    seed=SEED,\n",
    ")\n"
   ]
  },
  {
   "cell_type": "code",
   "execution_count": 40,
   "metadata": {},
   "outputs": [
    {
     "name": "stdout",
     "output_type": "stream",
     "text": [
      "frames (5, 3, 331, 331)\n",
      "ground_truths (5, 331, 331)\n",
      "global_ground_truth (331, 331)\n"
     ]
    }
   ],
   "source": [
    "sample = next(iter(train_loader))"
   ]
  },
  {
   "cell_type": "code",
   "execution_count": null,
   "metadata": {},
   "outputs": [],
   "source": []
  }
 ],
 "metadata": {
  "kernelspec": {
   "display_name": "pdm",
   "language": "python",
   "name": "python3"
  },
  "language_info": {
   "codemirror_mode": {
    "name": "ipython",
    "version": 3
   },
   "file_extension": ".py",
   "mimetype": "text/x-python",
   "name": "python",
   "nbconvert_exporter": "python",
   "pygments_lexer": "ipython3",
   "version": "3.11.10"
  }
 },
 "nbformat": 4,
 "nbformat_minor": 2
}
