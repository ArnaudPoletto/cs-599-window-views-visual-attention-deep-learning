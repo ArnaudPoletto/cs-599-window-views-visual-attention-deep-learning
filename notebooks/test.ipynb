{
 "cells": [
  {
   "cell_type": "code",
   "execution_count": 6,
   "metadata": {},
   "outputs": [
    {
     "name": "stdout",
     "output_type": "stream",
     "text": [
      "The autoreload extension is already loaded. To reload it, use:\n",
      "  %reload_ext autoreload\n"
     ]
    }
   ],
   "source": [
    "%load_ext autoreload\n",
    "%autoreload 2"
   ]
  },
  {
   "cell_type": "code",
   "execution_count": 7,
   "metadata": {},
   "outputs": [],
   "source": [
    "import sys\n",
    "\n",
    "sys.path.append(\"../\")\n",
    "\n",
    "import torch\n",
    "import matplotlib\n",
    "import numpy as np\n",
    "import matplotlib.pyplot as plt\n",
    "\n",
    "matplotlib.use(\"TkAgg\")\n",
    "\n",
    "from src.models.unet import UNet\n",
    "from src.config import MODELS_PATH\n",
    "from src.utils.file import get_sample_paths_list\n",
    "from src.datasets.sequence_dataset import get_dataloaders\n",
    "from src.config import (\n",
    "    SPLITS,\n",
    "    N_WORKERS,\n",
    "    SEQUENCE_LENGTH,\n",
    "    WITH_TRANSFORMS,\n",
    ")\n",
    "\n",
    "STATE_PATH = f\"{MODELS_PATH}/unet/20241111-160602_unet.pth\""
   ]
  },
  {
   "cell_type": "code",
   "execution_count": 8,
   "metadata": {},
   "outputs": [
    {
     "name": "stdout",
     "output_type": "stream",
     "text": [
      "🌱 Setting the seed to 0 for generating dataloaders\n",
      "✅ Created dataloaders with 1375 training, 385 validation, and 165 test batches.\n"
     ]
    }
   ],
   "source": [
    "sample_paths_list = get_sample_paths_list()\n",
    "train_loader, val_loader, test_loader = get_dataloaders(\n",
    "    sample_paths_list=sample_paths_list,\n",
    "    sequence_length=SEQUENCE_LENGTH,\n",
    "    with_transforms=WITH_TRANSFORMS,\n",
    "    batch_size=1,\n",
    "    train_split=SPLITS[0],\n",
    "    val_split=SPLITS[1],\n",
    "    test_split=SPLITS[2],\n",
    "    train_shuffle=True,\n",
    "    n_workers=N_WORKERS,\n",
    ")"
   ]
  },
  {
   "cell_type": "code",
   "execution_count": 9,
   "metadata": {},
   "outputs": [
    {
     "data": {
      "text/plain": [
       "<All keys matched successfully>"
      ]
     },
     "execution_count": 9,
     "metadata": {},
     "output_type": "execute_result"
    }
   ],
   "source": [
    "model = UNet(freeze_encoder=False)\n",
    "model.load_state_dict(torch.load(STATE_PATH))"
   ]
  },
  {
   "cell_type": "code",
   "execution_count": 11,
   "metadata": {},
   "outputs": [],
   "source": [
    "from matplotlib.widgets import Button\n",
    "from matplotlib.animation import FuncAnimation\n",
    "\n",
    "def visualize_batches(model, dataloader, device='cuda', interval=500):  # interval in ms\n",
    "    model.eval()\n",
    "    model = model.to(device)\n",
    "    \n",
    "    # Create iterator\n",
    "    dataloader_iter = iter(dataloader)\n",
    "    \n",
    "    # Create figure and axes\n",
    "    fig, (ax1, ax2, ax3) = plt.subplots(1, 3, figsize=(20, 10))\n",
    "    plt.subplots_adjust(bottom=0.2)  # Make room for button\n",
    "    \n",
    "    # Global variables to store current batch data\n",
    "    current_batch = None\n",
    "    anim = None\n",
    "    \n",
    "    def process_batch():\n",
    "        frames, ground_truths, global_ground_truth = next(dataloader_iter)\n",
    "        input = frames.to(device)\n",
    "        with torch.no_grad():\n",
    "            output = model(input)\n",
    "        \n",
    "        return input, output, ground_truths\n",
    "    \n",
    "    def init_animation():\n",
    "        ax1.clear()\n",
    "        ax2.clear()\n",
    "        ax3.clear()\n",
    "        return ax1, ax2, ax3\n",
    "\n",
    "    def animate(frame_idx):\n",
    "        ax1.clear()\n",
    "        ax2.clear()\n",
    "        ax3.clear()\n",
    "        \n",
    "        input, output, ground_truths = current_batch\n",
    "        \n",
    "        # Get the first sample of the sequence for the current frame\n",
    "        input_frame = input[0, frame_idx, 0]  # [batch, sequence, sample, channel, height, width]\n",
    "        output_frame = output[0, frame_idx]    # [batch, sequence, height, width]\n",
    "        gt_frame = ground_truths[0, frame_idx] # [batch, sequence, height, width]\n",
    "        \n",
    "        # Process input frame for visualization\n",
    "        input_np = input_frame.permute(1, 2, 0).cpu().detach().numpy()[:, :, ::-1]\n",
    "        input_np = (input_np * 0.5 + 0.5) * 255\n",
    "        input_np = input_np.astype(np.uint8)\n",
    "        \n",
    "        # Process output and ground truth\n",
    "        output_np = output_frame.cpu().detach().numpy()\n",
    "        gt_np = gt_frame.cpu().detach().numpy()\n",
    "        \n",
    "        # Display frames\n",
    "        ax1.imshow(input_np)\n",
    "        ax2.imshow(output_np, cmap=\"jet\", vmin=0, vmax=1)\n",
    "        ax3.imshow(gt_np, cmap=\"jet\", vmin=0, vmax=1)\n",
    "        \n",
    "        ax1.set_title(f'Input (Sequence {frame_idx + 1}/3)')\n",
    "        ax2.set_title(f'Output (Sequence {frame_idx + 1}/3)')\n",
    "        ax3.set_title(f'Ground Truth (Sequence {frame_idx + 1}/3)')\n",
    "        ax1.axis('off')\n",
    "        ax2.axis('off')\n",
    "        ax3.axis('off')\n",
    "        \n",
    "        return ax1, ax2, ax3\n",
    "    \n",
    "    def update_plot(event=None):\n",
    "        nonlocal current_batch, anim\n",
    "        \n",
    "        try:\n",
    "            # Get new batch\n",
    "            current_batch = process_batch()\n",
    "            \n",
    "            # If there's an existing animation, stop it\n",
    "            if anim is not None:\n",
    "                anim.event_source.stop()\n",
    "            \n",
    "            # Create new animation\n",
    "            anim = FuncAnimation(\n",
    "                fig, \n",
    "                animate, \n",
    "                init_func=init_animation,\n",
    "                frames=3,  # number of sequences\n",
    "                interval=interval,  # ms between frames\n",
    "                repeat=True,\n",
    "                blit=True\n",
    "            )\n",
    "            \n",
    "        except StopIteration:\n",
    "            print(\"Reached the end of the dataset. Restarting...\")\n",
    "            nonlocal dataloader_iter\n",
    "            dataloader_iter = iter(dataloader)\n",
    "            update_plot()\n",
    "        \n",
    "        fig.canvas.draw_idle()\n",
    "    \n",
    "    # Add button\n",
    "    ax_button = plt.axes([0.4, 0.05, 0.2, 0.075])\n",
    "    button = Button(ax_button, 'Next Batch')\n",
    "    button.on_clicked(update_plot)\n",
    "    \n",
    "    # Show initial batch\n",
    "    update_plot()\n",
    "    \n",
    "    plt.show(block=True)\n",
    "\n",
    "visualize_batches(model, test_loader, interval=500)"
   ]
  },
  {
   "cell_type": "code",
   "execution_count": null,
   "metadata": {},
   "outputs": [],
   "source": []
  }
 ],
 "metadata": {
  "kernelspec": {
   "display_name": "pdm",
   "language": "python",
   "name": "python3"
  },
  "language_info": {
   "codemirror_mode": {
    "name": "ipython",
    "version": 3
   },
   "file_extension": ".py",
   "mimetype": "text/x-python",
   "name": "python",
   "nbconvert_exporter": "python",
   "pygments_lexer": "ipython3",
   "version": "3.11.10"
  }
 },
 "nbformat": 4,
 "nbformat_minor": 2
}
