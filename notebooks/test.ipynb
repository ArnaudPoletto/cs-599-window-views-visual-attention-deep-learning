{
 "cells": [
  {
   "cell_type": "code",
   "execution_count": 69,
   "metadata": {},
   "outputs": [
    {
     "name": "stdout",
     "output_type": "stream",
     "text": [
      "The autoreload extension is already loaded. To reload it, use:\n",
      "  %reload_ext autoreload\n"
     ]
    }
   ],
   "source": [
    "%load_ext autoreload\n",
    "%autoreload 2"
   ]
  },
  {
   "cell_type": "code",
   "execution_count": 70,
   "metadata": {},
   "outputs": [],
   "source": [
    "import sys\n",
    "\n",
    "sys.path.append(\"../\")\n",
    "\n",
    "import os\n",
    "import matplotlib\n",
    "import numpy as np\n",
    "from typing import List\n",
    "import matplotlib.pyplot as plt\n",
    "from matplotlib.animation import FuncAnimation\n",
    "matplotlib.use(\"TkAgg\")\n",
    "\n",
    "os.environ[\"KMP_DUPLICATE_LIB_OK\"] = \"True\"\n",
    "\n",
    "from src.datasets.sequence_dataset import SequenceDataset\n",
    "from src.config import SAMPLES_PATH\n",
    "from src.utils.file import get_files_recursive\n",
    "\n",
    "SEQUENCE_LENGTH = 5"
   ]
  },
  {
   "cell_type": "code",
   "execution_count": 71,
   "metadata": {},
   "outputs": [],
   "source": [
    "def get_sample_path_files() -> List[List[str]]:\n",
    "    \"\"\"\n",
    "    Get sample files and group by folder\n",
    "    \n",
    "    Returns:\n",
    "    List[List[str]]: List of list of sample files\n",
    "    \"\"\"\n",
    "    sample_paths_list = get_files_recursive(SAMPLES_PATH, \"*.pkl\")\n",
    "    sample_paths_dict = {}\n",
    "    for path in sample_paths_list:\n",
    "        folder_path = \"/\".join(path.split(\"/\")[:-1])\n",
    "        if folder_path not in sample_paths_dict:\n",
    "            sample_paths_dict[folder_path] = []\n",
    "        sample_paths_dict[folder_path].append(path)\n",
    "    sample_paths_list = list(sample_paths_dict.values())\n",
    "\n",
    "    return sample_paths_list\n",
    "sample_paths_list = get_sample_path_files()"
   ]
  },
  {
   "cell_type": "code",
   "execution_count": 100,
   "metadata": {},
   "outputs": [
    {
     "name": "stdout",
     "output_type": "stream",
     "text": [
      "Dataset size: 161\n"
     ]
    }
   ],
   "source": [
    "dataset = SequenceDataset(\n",
    "    sample_paths_list=sample_paths_list,\n",
    "    sequence_length=SEQUENCE_LENGTH,\n",
    "    with_transforms=True,\n",
    ")\n",
    "print(f\"Dataset size: {len(dataset)}\")"
   ]
  },
  {
   "cell_type": "code",
   "execution_count": 101,
   "metadata": {},
   "outputs": [],
   "source": [
    "def animate_sample(dataset, index):\n",
    "    \"\"\"Animate the image series and ground truth saliency heatmap for a given index.\"\"\"\n",
    "    # Access the dataset instance\n",
    "    sequence = dataset[index]\n",
    "    image_series_list = [np.mean(sample.image_series, axis=0).astype(np.uint8) for sample in sequence]\n",
    "    ground_truths = [sample.ground_truth for sample in sequence]\n",
    "\n",
    "    # Check that the lengths match\n",
    "    assert len(image_series_list) == len(ground_truths), \"❌ Mismatch in series length and ground truth length\"\n",
    "    num_frames = len(image_series_list)\n",
    "\n",
    "    # Set up the figure and axes\n",
    "    fig = plt.figure(figsize=(10, 5))\n",
    "\n",
    "    # Initialize the plots with the first frame\n",
    "    img_plot = plt.imshow(image_series_list[0][:, :, ::-1], cmap='gray')\n",
    "    heatmap_plot = plt.imshow(image_series_list[0], cmap='hot', alpha=0.6, vmin=0, vmax=1)\n",
    "\n",
    "    def update(frame):\n",
    "        \"\"\"Update function for animation.\"\"\"\n",
    "        # Update the images for the current frame\n",
    "        img_plot.set_array(image_series_list[frame][:, :, ::-1])\n",
    "        heatmap_plot.set_array(ground_truths[frame])\n",
    "\n",
    "        return img_plot, heatmap_plot\n",
    "\n",
    "    # Function to close the figure when space bar is pressed\n",
    "    def on_key(event):\n",
    "        if event.key == ' ':  # Space bar pressed\n",
    "            plt.close(fig)\n",
    "\n",
    "    # Connect the key press event to the on_key function\n",
    "    fig.canvas.mpl_connect('key_press_event', on_key)\n",
    "\n",
    "    # Create the animation\n",
    "    ani = FuncAnimation(fig, update, frames=num_frames, interval=500, repeat=True)\n",
    "\n",
    "    plt.show()\n",
    "\n",
    "# Example usage\n",
    "# This will animate the first instance in the dataset\n",
    "animate_sample(dataset, 0)\n"
   ]
  }
 ],
 "metadata": {
  "kernelspec": {
   "display_name": "pdm",
   "language": "python",
   "name": "python3"
  },
  "language_info": {
   "codemirror_mode": {
    "name": "ipython",
    "version": 3
   },
   "file_extension": ".py",
   "mimetype": "text/x-python",
   "name": "python",
   "nbconvert_exporter": "python",
   "pygments_lexer": "ipython3",
   "version": "3.11.10"
  }
 },
 "nbformat": 4,
 "nbformat_minor": 2
}
