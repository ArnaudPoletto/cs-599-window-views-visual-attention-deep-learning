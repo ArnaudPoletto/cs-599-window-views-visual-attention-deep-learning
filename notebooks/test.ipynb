{
 "cells": [
  {
   "cell_type": "code",
   "execution_count": null,
   "metadata": {},
   "outputs": [],
   "source": [
    "%load_ext autoreload\n",
    "%autoreload 2"
   ]
  },
  {
   "cell_type": "code",
   "execution_count": 2,
   "metadata": {},
   "outputs": [],
   "source": [
    "import sys\n",
    "\n",
    "sys.path.append(\"../\")\n",
    "\n",
    "import os\n",
    "from typing import List\n",
    "from matplotlib import pyplot as plt\n",
    "\n",
    "os.environ[\"KMP_DUPLICATE_LIB_OK\"] = \"True\"\n",
    "\n",
    "from src.datasets.sequence_dataset import SequenceDataset\n",
    "from src.config import SAMPLES_PATH\n",
    "from src.utils.file import get_files_recursive\n",
    "\n",
    "SEQUENCE_LENGTH = 5"
   ]
  },
  {
   "cell_type": "code",
   "execution_count": 4,
   "metadata": {},
   "outputs": [],
   "source": [
    "def get_sample_path_files() -> List[List[str]]:\n",
    "    \"\"\"\n",
    "    Get sample files and group by folder\n",
    "    \n",
    "    Returns:\n",
    "    List[List[str]]: List of list of sample files\n",
    "    \"\"\"\n",
    "    sample_paths_list = get_files_recursive(SAMPLES_PATH, \"*.npy\")\n",
    "    sample_paths_dict = {}\n",
    "    for path in sample_paths_list:\n",
    "        folder_path = \"/\".join(path.split(\"/\")[:-1])\n",
    "        if folder_path not in sample_paths_dict:\n",
    "            sample_paths_dict[folder_path] = []\n",
    "        sample_paths_dict[folder_path].append(path)\n",
    "    sample_paths_list = list(sample_paths_dict.values())\n",
    "\n",
    "    return sample_paths_list\n",
    "sample_paths_list = get_sample_path_files()"
   ]
  },
  {
   "cell_type": "code",
   "execution_count": 16,
   "metadata": {},
   "outputs": [],
   "source": [
    "dataset = SequenceDataset(\n",
    "    sample_paths_list=sample_paths_list,\n",
    "    sequence_length=SEQUENCE_LENGTH,\n",
    ")"
   ]
  },
  {
   "cell_type": "code",
   "execution_count": null,
   "metadata": {},
   "outputs": [],
   "source": []
  }
 ],
 "metadata": {
  "kernelspec": {
   "display_name": "pdm",
   "language": "python",
   "name": "python3"
  },
  "language_info": {
   "codemirror_mode": {
    "name": "ipython",
    "version": 3
   },
   "file_extension": ".py",
   "mimetype": "text/x-python",
   "name": "python",
   "nbconvert_exporter": "python",
   "pygments_lexer": "ipython3",
   "version": "3.11.10"
  }
 },
 "nbformat": 4,
 "nbformat_minor": 2
}
