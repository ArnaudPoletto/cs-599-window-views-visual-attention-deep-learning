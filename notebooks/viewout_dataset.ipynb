{
 "cells": [
  {
   "cell_type": "code",
   "execution_count": 1,
   "metadata": {},
   "outputs": [],
   "source": [
    "%load_ext autoreload\n",
    "%autoreload 2"
   ]
  },
  {
   "cell_type": "code",
   "execution_count": null,
   "metadata": {},
   "outputs": [],
   "source": [
    "import sys\n",
    "\n",
    "sys.path.append(\"../\")\n",
    "\n",
    "import os\n",
    "import matplotlib\n",
    "import numpy as np\n",
    "from typing import List\n",
    "import matplotlib.pyplot as plt\n",
    "from matplotlib.animation import FuncAnimation\n",
    "\n",
    "matplotlib.use(\"TkAgg\")\n",
    "os.environ[\"KMP_DUPLICATE_LIB_OK\"] = \"True\"\n",
    "\n",
    "from src.utils.file import get_sample_paths_list\n",
    "from src.datasets.sequence_dataset import SequenceDataset\n",
    "\n",
    "SEQUENCE_LENGTH = 5"
   ]
  },
  {
   "cell_type": "code",
   "execution_count": 3,
   "metadata": {},
   "outputs": [
    {
     "name": "stdout",
     "output_type": "stream",
     "text": [
      "Dataset size: 1785\n"
     ]
    }
   ],
   "source": [
    "sample_paths_list = get_sample_paths_list()\n",
    "dataset = SequenceDataset(\n",
    "    sample_paths_list=sample_paths_list,\n",
    "    sequence_length=SEQUENCE_LENGTH,\n",
    "    with_transforms=True,\n",
    ")\n",
    "print(f\"Dataset size: {len(dataset)}\") "
   ]
  },
  {
   "cell_type": "code",
   "execution_count": 4,
   "metadata": {},
   "outputs": [],
   "source": [
    "def animate_sample(dataset, index):\n",
    "    frames, ground_truths, global_ground_truth = dataset[index]\n",
    "\n",
    "    # Average and unnormalize frames\n",
    "    frames = (frames * 0.5 + 0.5) * 255\n",
    "    frames = np.moveaxis(frames, 2, -1)\n",
    "    frames = np.clip(frames, 0, 255).astype(np.uint8)\n",
    "    frames = np.mean(frames, axis=1).astype(np.uint8)\n",
    "\n",
    "    fig = plt.figure(figsize=(10, 5))\n",
    "    img_plot = plt.imshow(frames[0][:, :, ::-1], cmap='gray') \n",
    "    global_heatmap_plot = plt.imshow(global_ground_truth, cmap='jet', alpha=0.5, vmin=0, vmax=1)\n",
    "    dynamic_heatmap_plot = plt.imshow(ground_truths[0], cmap='hot', alpha=0.5, vmin=0, vmax=1)\n",
    "    dynamic_heatmap_plot.set_visible(False)\n",
    "\n",
    "    is_global_heatmap = True\n",
    "\n",
    "    def update(frame):\n",
    "        img_plot.set_array(frames[frame][:, :, ::-1])\n",
    "        if is_global_heatmap:\n",
    "            global_heatmap_plot.set_array(global_ground_truth)\n",
    "            dynamic_heatmap_plot.set_visible(False)\n",
    "            global_heatmap_plot.set_visible(True)\n",
    "        else:\n",
    "            dynamic_heatmap_plot.set_array(ground_truths[frame])\n",
    "            dynamic_heatmap_plot.set_visible(True)\n",
    "            global_heatmap_plot.set_visible(False)\n",
    "\n",
    "        return img_plot, global_heatmap_plot, dynamic_heatmap_plot\n",
    "\n",
    "    def on_key(event):\n",
    "        nonlocal is_global_heatmap\n",
    "        if event.key == ' ':\n",
    "            plt.close(fig)\n",
    "        elif event.key == 'e':\n",
    "            is_global_heatmap = not is_global_heatmap\n",
    "\n",
    "    fig.canvas.mpl_connect('key_press_event', on_key)\n",
    "\n",
    "    num_frames = frames.shape[0]\n",
    "    ani = FuncAnimation(fig, update, frames=num_frames, interval=500, repeat=True)\n",
    "\n",
    "    plt.show()\n",
    "\n",
    "animate_sample(dataset, 0)"
   ]
  },
  {
   "cell_type": "code",
   "execution_count": null,
   "metadata": {},
   "outputs": [],
   "source": []
  }
 ],
 "metadata": {
  "kernelspec": {
   "display_name": "pdm",
   "language": "python",
   "name": "python3"
  },
  "language_info": {
   "codemirror_mode": {
    "name": "ipython",
    "version": 3
   },
   "file_extension": ".py",
   "mimetype": "text/x-python",
   "name": "python",
   "nbconvert_exporter": "python",
   "pygments_lexer": "ipython3",
   "version": "3.11.10"
  }
 },
 "nbformat": 4,
 "nbformat_minor": 2
}
