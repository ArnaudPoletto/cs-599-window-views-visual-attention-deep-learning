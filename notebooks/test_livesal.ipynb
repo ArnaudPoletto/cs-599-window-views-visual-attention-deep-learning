{
 "cells": [
  {
   "cell_type": "code",
   "execution_count": 26,
   "metadata": {},
   "outputs": [
    {
     "name": "stdout",
     "output_type": "stream",
     "text": [
      "The autoreload extension is already loaded. To reload it, use:\n",
      "  %reload_ext autoreload\n"
     ]
    }
   ],
   "source": [
    "%load_ext autoreload\n",
    "%autoreload 2"
   ]
  },
  {
   "cell_type": "code",
   "execution_count": 27,
   "metadata": {},
   "outputs": [],
   "source": [
    "import sys\n",
    "\n",
    "sys.path.append(\"../\")\n",
    "\n",
    "import torch\n",
    "import matplotlib\n",
    "import numpy as np\n",
    "from pathlib import Path\n",
    "import matplotlib.pyplot as plt\n",
    "\n",
    "matplotlib.use(\"TkAgg\")\n",
    "\n",
    "from src.models.livesal import LiveSAL\n",
    "from src.config import MODELS_PATH\n",
    "from src.utils.file import get_paths_recursive\n",
    "from src.datasets.salicon_dataset import get_dataloaders as get_salicon_dataloaders\n",
    "from src.datasets.dhf1k_dataset import get_dataloaders as get_dhf1k_dataloaders\n",
    "from src.config import (\n",
    "    SEED,\n",
    "    DEVICE,\n",
    "    SPLITS,\n",
    "    N_WORKERS,\n",
    "    PROCESSED_SALICON_PATH,\n",
    "    PROCESSED_DHF1K_PATH,\n",
    ")\n",
    "\n",
    "USE_LATEST_MODEL = False\n",
    "STATE_FOLDER_PATH = f\"{MODELS_PATH}/livesal/\"\n",
    "STATE_FILE_PATH = f\"{STATE_FOLDER_PATH}/20241121-234622_livesal.pth\""
   ]
  },
  {
   "cell_type": "code",
   "execution_count": 31,
   "metadata": {},
   "outputs": [
    {
     "name": "stdout",
     "output_type": "stream",
     "text": [
      "🌱 Setting the seed to 0 for generating dataloaders.\n"
     ]
    }
   ],
   "source": [
    "sample_folder_paths = get_paths_recursive(folder_path=PROCESSED_SALICON_PATH, match_pattern=\"*\", file_type=\"d\")\n",
    "train_loader, val_loader, test_loader = get_salicon_dataloaders(\n",
    "    sample_folder_paths=sample_folder_paths,\n",
    "    with_transforms=True,\n",
    "    batch_size=1,\n",
    "    train_split=SPLITS[0],\n",
    "    val_split=SPLITS[1],\n",
    "    test_split=SPLITS[2],\n",
    "    train_shuffle=True,\n",
    "    n_workers=N_WORKERS,\n",
    "    seed=SEED,\n",
    ")"
   ]
  },
  {
   "cell_type": "code",
   "execution_count": 17,
   "metadata": {},
   "outputs": [
    {
     "name": "stdout",
     "output_type": "stream",
     "text": [
      "🌱 Setting the seed to 0 for generating dataloaders.\n"
     ]
    }
   ],
   "source": [
    "sample_folder_paths = get_paths_recursive(folder_path=PROCESSED_DHF1K_PATH, match_pattern=\"*\", file_type=\"d\")\n",
    "train_loader, val_loader, test_loader = get_dhf1k_dataloaders(\n",
    "    sample_folder_paths=sample_folder_paths,\n",
    "    sequence_length=5, # TODO: not with salicon\n",
    "    with_transforms=True,\n",
    "    batch_size=1,\n",
    "    train_split=SPLITS[0],\n",
    "    val_split=SPLITS[1],\n",
    "    test_split=SPLITS[2],\n",
    "    train_shuffle=True,\n",
    "    n_workers=N_WORKERS,\n",
    "    seed=SEED,\n",
    ")"
   ]
  },
  {
   "cell_type": "code",
   "execution_count": 29,
   "metadata": {},
   "outputs": [
    {
     "name": "stdout",
     "output_type": "stream",
     "text": [
      "✅ Loaded state from C:\\Users\\arnau\\cours\\master_project\\git-estimation\\data\\models\\livesal\\20241121-234622_livesal.pth\n"
     ]
    }
   ],
   "source": [
    "model = LiveSAL(\n",
    "    hidden_channels=64, \n",
    "    output_channels=5,\n",
    "    with_absolute_positional_embeddings=True,\n",
    "    with_relative_positional_embeddings=True,\n",
    "    n_heads=1,\n",
    "    neighbor_radius=1,\n",
    "    n_iterations=5,\n",
    "    with_graph_processing=True,\n",
    "    freeze_encoder=True,\n",
    "    with_depth_information=True,\n",
    "    fusion_level=4,\n",
    ")\n",
    "if USE_LATEST_MODEL:\n",
    "    state_file_paths = get_paths_recursive(folder_path=STATE_FOLDER_PATH, match_pattern=\"*.pth\", file_type=\"f\")\n",
    "    state_file_path = sorted(state_file_paths, key=lambda x: x.split(\"/\")[-1].split(\".\")[0])[-1]\n",
    "else:\n",
    "    state_file_path = STATE_FILE_PATH\n",
    "model.load_state_dict(torch.load(state_file_path))\n",
    "print(f\"✅ Loaded state from {Path(state_file_path).resolve()}\")"
   ]
  },
  {
   "cell_type": "code",
   "execution_count": 33,
   "metadata": {},
   "outputs": [
    {
     "name": "stdout",
     "output_type": "stream",
     "text": [
      ">>> torch.Size([1, 3, 331, 331])\n"
     ]
    },
    {
     "ename": "",
     "evalue": "",
     "output_type": "error",
     "traceback": [
      "\u001b[1;31mThe Kernel crashed while executing code in the current cell or a previous cell. \n",
      "\u001b[1;31mPlease review the code in the cell(s) to identify a possible cause of the failure. \n",
      "\u001b[1;31mClick <a href='https://aka.ms/vscodeJupyterKernelCrash'>here</a> for more info. \n",
      "\u001b[1;31mView Jupyter <a href='command:jupyter.viewOutput'>log</a> for further details."
     ]
    }
   ],
   "source": [
    "from matplotlib.widgets import Button\n",
    "from matplotlib.animation import FuncAnimation\n",
    "\n",
    "def visualize_batches(model, dataloader, interval=500):\n",
    "    model.eval()\n",
    "    model = model.to(DEVICE)\n",
    "    \n",
    "    # Create iterator\n",
    "    dataloader_iter = iter(dataloader)\n",
    "    \n",
    "    # Create figure and axes\n",
    "    fig, (ax1, ax2, ax3) = plt.subplots(1, 3, figsize=(20, 10))\n",
    "    plt.subplots_adjust(bottom=0.2)  # Make room for button\n",
    "    \n",
    "    # Global variables to store current batch data\n",
    "    current_batch = None\n",
    "    anim = None\n",
    "    \n",
    "    def process_batch():\n",
    "        frame, ground_truths, global_ground_truth = next(dataloader_iter)\n",
    "        input = frame.to(DEVICE)\n",
    "        with torch.no_grad():\n",
    "            output = model(input)\n",
    "\n",
    "        if output.dim() == 3:\n",
    "            output = output.unsqueeze(1)\n",
    "\n",
    "        if model.output_channels == 1:\n",
    "            ground_truth = global_ground_truth.unsqueeze(1).to(DEVICE)\n",
    "        else:\n",
    "            ground_truth = ground_truths.to(DEVICE)\n",
    "        \n",
    "        return input, output, ground_truth\n",
    "    \n",
    "    def init_animation():\n",
    "        ax1.clear()\n",
    "        ax2.clear()\n",
    "        ax3.clear()\n",
    "        return ax1, ax2, ax3\n",
    "\n",
    "    def animate(frame_idx):\n",
    "        ax1.clear()\n",
    "        ax2.clear()\n",
    "        ax3.clear()\n",
    "        \n",
    "        input, output, ground_truths = current_batch\n",
    "        \n",
    "        # Get the first sample of the sequence for the current frame\n",
    "        if input.dim() == 4:\n",
    "            input_frame = input[0]\n",
    "        elif input.dim() == 5:\n",
    "            input_frame = input[0, frame_idx]\n",
    "        output_frame = output[0, frame_idx]\n",
    "        gt_frame = ground_truths[0, frame_idx]\n",
    "        \n",
    "        # Process input frame for visualization\n",
    "        input_np = input_frame.permute(1, 2, 0).cpu().detach().numpy()\n",
    "        \n",
    "        # Process output and ground truth\n",
    "        output_np = output_frame.cpu().detach().numpy()\n",
    "        gt_np = gt_frame.cpu().detach().numpy()\n",
    "        \n",
    "        # Display frames\n",
    "        ax1.imshow(input_np)\n",
    "        ax2.imshow(output_np, cmap=\"jet\", vmin=0, vmax=1)\n",
    "        ax3.imshow(gt_np, cmap=\"jet\", vmin=0, vmax=1)\n",
    "        \n",
    "        ax1.set_title(f'Input (Sequence {frame_idx + 1}/3)')\n",
    "        ax2.set_title(f'Output (Sequence {frame_idx + 1}/3)')\n",
    "        ax3.set_title(f'Ground Truth (Sequence {frame_idx + 1}/3)')\n",
    "        ax1.axis('off')\n",
    "        ax2.axis('off')\n",
    "        ax3.axis('off')\n",
    "        \n",
    "        return ax1, ax2, ax3\n",
    "    \n",
    "    def update_plot(event=None):\n",
    "        nonlocal current_batch, anim\n",
    "        \n",
    "        try:\n",
    "            # Get new batch\n",
    "            current_batch = process_batch()\n",
    "            \n",
    "            # If there's an existing animation, stop it\n",
    "            if anim is not None:\n",
    "                anim.event_source.stop()\n",
    "            \n",
    "            # Create new animation\n",
    "            anim = FuncAnimation(\n",
    "                fig, \n",
    "                animate, \n",
    "                init_func=init_animation,\n",
    "                frames=model.output_channels,\n",
    "                interval=interval,\n",
    "                repeat=True,\n",
    "                blit=True\n",
    "            )\n",
    "            \n",
    "        except StopIteration:\n",
    "            print(\"Reached the end of the dataset. Restarting...\")\n",
    "            nonlocal dataloader_iter\n",
    "            dataloader_iter = iter(dataloader)\n",
    "            update_plot()\n",
    "        \n",
    "        fig.canvas.draw_idle()\n",
    "    \n",
    "    # Add button\n",
    "    ax_button = plt.axes([0.4, 0.05, 0.2, 0.075])\n",
    "    button = Button(ax_button, 'Next Batch')\n",
    "    button.on_clicked(update_plot)\n",
    "    \n",
    "    # Show initial batch\n",
    "    update_plot()\n",
    "    \n",
    "    plt.show(block=True)\n",
    "\n",
    "visualize_batches(model, train_loader, interval=500)"
   ]
  },
  {
   "cell_type": "code",
   "execution_count": null,
   "metadata": {},
   "outputs": [],
   "source": []
  }
 ],
 "metadata": {
  "kernelspec": {
   "display_name": "pdm",
   "language": "python",
   "name": "python3"
  },
  "language_info": {
   "codemirror_mode": {
    "name": "ipython",
    "version": 3
   },
   "file_extension": ".py",
   "mimetype": "text/x-python",
   "name": "python",
   "nbconvert_exporter": "python",
   "pygments_lexer": "ipython3",
   "version": "3.11.10"
  }
 },
 "nbformat": 4,
 "nbformat_minor": 2
}
